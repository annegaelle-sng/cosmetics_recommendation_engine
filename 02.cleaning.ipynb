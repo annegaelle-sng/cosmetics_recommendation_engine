{
 "cells": [
  {
   "cell_type": "code",
   "execution_count": 22,
   "metadata": {},
   "outputs": [],
   "source": [
    "#Libraries\n",
    "import pandas as pd\n",
    "import numpy as np\n",
    "import re\n",
    "import matplotlib.pyplot as plt"
   ]
  },
  {
   "cell_type": "code",
   "execution_count": 23,
   "metadata": {},
   "outputs": [
    {
     "name": "stdout",
     "output_type": "stream",
     "text": [
      "<class 'pandas.core.frame.DataFrame'>\n",
      "RangeIndex: 685 entries, 0 to 684\n",
      "Data columns (total 6 columns):\n",
      " #   Column       Non-Null Count  Dtype \n",
      "---  ------       --------------  ----- \n",
      " 0   Label        685 non-null    object\n",
      " 1   URL          685 non-null    object\n",
      " 2   brand        685 non-null    object\n",
      " 3   name         685 non-null    object\n",
      " 4   price        685 non-null    object\n",
      " 5   ingredients  685 non-null    object\n",
      "dtypes: object(6)\n",
      "memory usage: 32.2+ KB\n"
     ]
    },
    {
     "data": {
      "text/html": [
       "<div>\n",
       "<style scoped>\n",
       "    .dataframe tbody tr th:only-of-type {\n",
       "        vertical-align: middle;\n",
       "    }\n",
       "\n",
       "    .dataframe tbody tr th {\n",
       "        vertical-align: top;\n",
       "    }\n",
       "\n",
       "    .dataframe thead th {\n",
       "        text-align: right;\n",
       "    }\n",
       "</style>\n",
       "<table border=\"1\" class=\"dataframe\">\n",
       "  <thead>\n",
       "    <tr style=\"text-align: right;\">\n",
       "      <th></th>\n",
       "      <th>Label</th>\n",
       "      <th>URL</th>\n",
       "      <th>brand</th>\n",
       "      <th>name</th>\n",
       "      <th>price</th>\n",
       "      <th>ingredients</th>\n",
       "    </tr>\n",
       "  </thead>\n",
       "  <tbody>\n",
       "    <tr>\n",
       "      <th>0</th>\n",
       "      <td>laver</td>\n",
       "      <td>https://labelleboucle.fr/collections/laver/pro...</td>\n",
       "      <td>NOIREÔNATUREL</td>\n",
       "      <td>Shampoing Purifiant Première Mousse</td>\n",
       "      <td>13,50€</td>\n",
       "      <td>Aqua (water) Rosmarinus Officinalis (rosemarin...</td>\n",
       "    </tr>\n",
       "    <tr>\n",
       "      <th>1</th>\n",
       "      <td>laver</td>\n",
       "      <td>https://labelleboucle.fr/collections/laver/pro...</td>\n",
       "      <td>URTEKRAM</td>\n",
       "      <td>Shampoing Revitalisant Aloe Vera</td>\n",
       "      <td>7,00€</td>\n",
       "      <td>Aqua, Aloe Barbadensis Leaf Extract*, Sodium C...</td>\n",
       "    </tr>\n",
       "    <tr>\n",
       "      <th>2</th>\n",
       "      <td>laver</td>\n",
       "      <td>https://labelleboucle.fr/collections/laver/pro...</td>\n",
       "      <td>LES SECRETS DE LOLY</td>\n",
       "      <td>Shampoing Perfect Clean</td>\n",
       "      <td>15,50€</td>\n",
       "      <td>Aqua, Sodium Cocoyl, Apple Amino Acids, Cocomi...</td>\n",
       "    </tr>\n",
       "    <tr>\n",
       "      <th>3</th>\n",
       "      <td>laver</td>\n",
       "      <td>https://labelleboucle.fr/collections/laver/pro...</td>\n",
       "      <td>LES SECRETS DE LOLY</td>\n",
       "      <td>Shampoing Dermo-Apaisant Sunshine Clean</td>\n",
       "      <td>15,50€</td>\n",
       "      <td>Aqua, Guar Hydroxypropyltrimonium Chloride, Co...</td>\n",
       "    </tr>\n",
       "    <tr>\n",
       "      <th>4</th>\n",
       "      <td>laver</td>\n",
       "      <td>https://labelleboucle.fr/collections/laver/pro...</td>\n",
       "      <td>DESERT ESSENCE</td>\n",
       "      <td>Shampoing Brillance Framboise</td>\n",
       "      <td>9,50€</td>\n",
       "      <td>Aloe Barbadensis Leaf Juice, Rubus Idaeus (Ras...</td>\n",
       "    </tr>\n",
       "  </tbody>\n",
       "</table>\n",
       "</div>"
      ],
      "text/plain": [
       "   Label                                                URL  \\\n",
       "0  laver  https://labelleboucle.fr/collections/laver/pro...   \n",
       "1  laver  https://labelleboucle.fr/collections/laver/pro...   \n",
       "2  laver  https://labelleboucle.fr/collections/laver/pro...   \n",
       "3  laver  https://labelleboucle.fr/collections/laver/pro...   \n",
       "4  laver  https://labelleboucle.fr/collections/laver/pro...   \n",
       "\n",
       "                 brand                                     name   price  \\\n",
       "0        NOIREÔNATUREL      Shampoing Purifiant Première Mousse  13,50€   \n",
       "1             URTEKRAM         Shampoing Revitalisant Aloe Vera   7,00€   \n",
       "2  LES SECRETS DE LOLY                  Shampoing Perfect Clean  15,50€   \n",
       "3  LES SECRETS DE LOLY  Shampoing Dermo-Apaisant Sunshine Clean  15,50€   \n",
       "4       DESERT ESSENCE            Shampoing Brillance Framboise   9,50€   \n",
       "\n",
       "                                         ingredients  \n",
       "0  Aqua (water) Rosmarinus Officinalis (rosemarin...  \n",
       "1  Aqua, Aloe Barbadensis Leaf Extract*, Sodium C...  \n",
       "2  Aqua, Sodium Cocoyl, Apple Amino Acids, Cocomi...  \n",
       "3  Aqua, Guar Hydroxypropyltrimonium Chloride, Co...  \n",
       "4  Aloe Barbadensis Leaf Juice, Rubus Idaeus (Ras...  "
      ]
     },
     "execution_count": 23,
     "metadata": {},
     "output_type": "execute_result"
    }
   ],
   "source": [
    "# step 1. cleaning data\n",
    "cosm_data = pd.read_csv('datasets/cosmetic.csv')\n",
    "cosm_data.info()\n",
    "cosm_data.head()"
   ]
  },
  {
   "cell_type": "code",
   "execution_count": 24,
   "metadata": {},
   "outputs": [],
   "source": [
    "#Label\n",
    "cosm_data.Label[cosm_data['Label'] == 'laver'] = str('Wash')\n",
    "cosm_data.Label[cosm_data['Label'] == 'soigner'] = str('Treatment')\n",
    "cosm_data.Label[cosm_data['Label'] == 'coiffer'] = str('Styling')"
   ]
  },
  {
   "cell_type": "code",
   "execution_count": 25,
   "metadata": {},
   "outputs": [
    {
     "name": "stdout",
     "output_type": "stream",
     "text": [
      "<class 'pandas.core.frame.DataFrame'>\n",
      "Int64Index: 192 entries, 0 to 650\n",
      "Data columns (total 6 columns):\n",
      " #   Column       Non-Null Count  Dtype \n",
      "---  ------       --------------  ----- \n",
      " 0   Label        192 non-null    object\n",
      " 1   URL          192 non-null    object\n",
      " 2   brand        192 non-null    object\n",
      " 3   name         192 non-null    object\n",
      " 4   price        192 non-null    object\n",
      " 5   ingredients  192 non-null    object\n",
      "dtypes: object(6)\n",
      "memory usage: 10.5+ KB\n"
     ]
    },
    {
     "name": "stderr",
     "output_type": "stream",
     "text": [
      "/var/folders/1r/7t449kpd1x144fxb4054tp700000gn/T/ipykernel_33503/3451355504.py:5: UserWarning: Boolean Series key will be reindexed to match DataFrame index.\n",
      "  cosm_data_clean = cosm_data_clean[cosm_data['ingredients'].str.contains('No Info') == False]\n"
     ]
    }
   ],
   "source": [
    "df_2 = cosm_data['name'].drop_duplicates()\n",
    "\n",
    "cosm_data = cosm_data.loc[df_2.index, :]\n",
    "cosm_data_clean = cosm_data[cosm_data[\"name\"].str.contains(\"Brosse|Trousse|Serviette|Bonnet|Chouchou|Écrin|Élastique|Vaporisateur|Peigne|Thé|Complément\") == False]\n",
    "cosm_data_clean = cosm_data_clean[cosm_data['ingredients'].str.contains('No Info') == False]\n",
    "cosm_data_clean.info()"
   ]
  },
  {
   "cell_type": "code",
   "execution_count": 26,
   "metadata": {},
   "outputs": [],
   "source": [
    "cosm_data_clean = cosm_data_clean.reset_index(drop=True)"
   ]
  },
  {
   "cell_type": "code",
   "execution_count": 27,
   "metadata": {},
   "outputs": [],
   "source": [
    "#Price \n",
    "\n",
    "cosm_data_clean['price']= list((cosm_data_clean['price'][i].replace(',', '.').replace('€', '').replace('No Info', '') \n",
    "                                for i in cosm_data_clean.index))\n",
    "cosm_data_clean['price'] = pd.to_numeric(cosm_data_clean['price'])"
   ]
  },
  {
   "cell_type": "code",
   "execution_count": 28,
   "metadata": {},
   "outputs": [
    {
     "name": "stdout",
     "output_type": "stream",
     "text": [
      "0      Aqua (water) Rosmarinus Officinalis (rosemarin...\n",
      "1      Aqua, Aloe Barbadensis Leaf Extract, Sodium Co...\n",
      "2      Aqua, Sodium Cocoyl, Apple Amino Acids, Cocomi...\n",
      "3      Aqua, Guar Hydroxypropyltrimonium Chloride, Co...\n",
      "4      Aloe Barbadensis Leaf Juice, Rubus Idaeus (Ras...\n",
      "                             ...                        \n",
      "187    \"Huile de Ricinus Communis (ricin), huile d'ol...\n",
      "188    Eau/Acqua, Glycérine, Alcool Cétéarylique, Alc...\n",
      "189    Aqua (Water), Polyglyceryl-4-CapratePropanedio...\n",
      "190    Aqua, Cetaryl Alcohol, Aloe Barbadensis Leaf J...\n",
      "191    aqua (water), cetearyl, alcohol, euterpe olera...\n",
      "Name: ingredients, Length: 192, dtype: object\n"
     ]
    }
   ],
   "source": [
    "#ingredients \n",
    "separator = '\\n'\n",
    "cosm_data_clean['ingredients']= list((cosm_data_clean['ingredients'][i].split(separator)[0].replace('*', '').replace('.','') for i in cosm_data_clean.index))\n",
    "\n",
    "print(cosm_data_clean['ingredients'])"
   ]
  },
  {
   "cell_type": "code",
   "execution_count": 29,
   "metadata": {},
   "outputs": [],
   "source": [
    "cosm_data_clean.to_csv('datasets/cosmetic_p.csv', encoding = 'utf-8-sig', index = False)"
   ]
  }
 ],
 "metadata": {
  "kernelspec": {
   "display_name": "base",
   "language": "python",
   "name": "python3"
  },
  "language_info": {
   "codemirror_mode": {
    "name": "ipython",
    "version": 3
   },
   "file_extension": ".py",
   "mimetype": "text/x-python",
   "name": "python",
   "nbconvert_exporter": "python",
   "pygments_lexer": "ipython3",
   "version": "3.9.7"
  },
  "orig_nbformat": 4,
  "vscode": {
   "interpreter": {
    "hash": "40d3a090f54c6569ab1632332b64b2c03c39dcf918b08424e98f38b5ae0af88f"
   }
  }
 },
 "nbformat": 4,
 "nbformat_minor": 2
}
